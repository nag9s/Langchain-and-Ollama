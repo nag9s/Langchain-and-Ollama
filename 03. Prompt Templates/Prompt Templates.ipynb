{
 "cells": [
  {
   "cell_type": "markdown",
   "metadata": {},
   "source": [
    "## LLM Prompt Templates"
   ]
  },
  {
   "cell_type": "markdown",
   "metadata": {},
   "source": [
    "| Role       | Description                                                                                                                                                   |\n",
    "|------------|---------------------------------------------------------------------------------------------------------------------------------------------------------------|\n",
    "| system     | Used to tell the chat model how to behave and provide additional context. Not supported by all chat model providers.                                          |\n",
    "| user       | Represents input from a user interacting with the model, usually in the form of text or other interactive input.                                              |\n",
    "| assistant  | Represents a response from the model, which can include text or a request to invoke tools.                                                                    |\n",
    "| tool       | A message used to pass the results of a tool invocation back to the model after external data or processing has been retrieved. Used with chat models that support tool calling. |\n",
    "| function (legacy) | This is a legacy role, corresponding to OpenAI's legacy function-calling API. tool role should be used instead."
   ]
  },
  {
   "cell_type": "markdown",
   "metadata": {},
   "source": [
    "### Langchain Message Types"
   ]
  },
  {
   "cell_type": "markdown",
   "metadata": {},
   "source": [
    "|    Message Type        |    Corresponding Role       |    Description                                                                                                          |\n",
    "|------------------------|-----------------------------|--------------------------------------------------------------------------------------------------------------------------|\n",
    "|    SystemMessage       |    system                   |    Corresponds to the system role.                                                                                       |\n",
    "|    HumanMessage        |    user                     |    Corresponds to the user role.                                                                                         |\n",
    "|    AIMessage           |    assistant                |    Corresponds to the assistant role.                                                                                    |\n",
    "|    AIMessageChunk      |    assistant                |    Corresponds to the assistant role, used for streaming responses.                                                      |\n",
    "|    ToolMessage         |    tool                     |    Corresponds to the tool role.                                                                                         |"
   ]
  },
  {
   "cell_type": "code",
   "execution_count": 8,
   "metadata": {},
   "outputs": [
    {
     "data": {
      "text/plain": [
       "True"
      ]
     },
     "execution_count": 8,
     "metadata": {},
     "output_type": "execute_result"
    }
   ],
   "source": [
    "from dotenv import load_dotenv\n",
    "\n",
    "load_dotenv('./../env')"
   ]
  },
  {
   "cell_type": "code",
   "execution_count": 9,
   "metadata": {},
   "outputs": [
    {
     "name": "stdout",
     "output_type": "stream",
     "text": [
      "Here are three key points about the Earth:\n",
      "\n",
      "1. **Size and Composition**: The Earth is the fifth-largest planet in our solar system, with a diameter of approximately 12,742 kilometers (7,918 miles). It is composed primarily of iron, oxygen, silicon, magnesium, and aluminum, which make up about 74% of its mass. The remaining 26% consists of water, silicates, and other minerals.\n",
      "\n",
      "2. **Atmosphere and Climate**: The Earth's atmosphere is made up of nitrogen (78%), oxygen (21%), and carbon dioxide (1%). This atmosphere protects life on the planet by regulating temperature, providing oxygen for breathing, and absorbing excess carbon dioxide. The atmosphere also supports a wide range of climate conditions, from tropical rainforests to polar ice caps.\n",
      "\n",
      "3. **Water Cycle**: The Earth's surface is constantly in motion, with water cycling between the oceans, atmosphere, and land through processes such as evaporation, condensation, precipitation, and runoff. This water cycle plays a crucial role in shaping our planet's geography, influencing climate patterns, and supporting life on Earth.\n"
     ]
    }
   ],
   "source": [
    "from langchain_ollama import ChatOllama\n",
    "\n",
    "base_url = \"http://localhost:11434\"\n",
    "model = 'llama3.2:1b'\n",
    "\n",
    "llm = ChatOllama(base_url=base_url, model=model)\n",
    "\n",
    "question = 'tell me about the earth in 3 points'\n",
    "response = llm.invoke(question)\n",
    "print(response.content)"
   ]
  },
  {
   "cell_type": "code",
   "execution_count": 10,
   "metadata": {},
   "outputs": [
    {
     "name": "stdout",
     "output_type": "stream",
     "text": [
      "The Earth. A fascinating planet, really. Here are three points that might interest you:\n",
      "\n",
      "Firstly, I've observed that the Earth's rotation is not perfectly uniform. Its axis wobbles slightly over a period of 26,000 years due to tidal interactions with the Moon and other celestial bodies. This means that the length of a day on Earth varies by about 1 minute every 18 months.\n",
      "\n",
      "Secondly, the Earth's magnetic field has been weakening over the past few decades. I've noted that this is likely due to changes in the solar wind, which affects the planet's magnetic poles. The consequences of this decline are still being felt, and I suspect it will have significant implications for global navigation and communication systems.\n",
      "\n",
      "Thirdly, I've deduced that the Earth's climate is not as stable as we're led to believe. My observations suggest that temperatures are rising at a rate faster than predicted by climate models. This may be due to various factors, including human activities such as burning fossil fuels and deforestation. The implications for global security and economic stability are too great to ignore.\n",
      "\n",
      "Now, if you'll excuse me, I have more pressing matters to attend to. I have a case to solve...\n"
     ]
    }
   ],
   "source": [
    "model = 'sherlock'\n",
    "\n",
    "llm = ChatOllama(base_url=base_url, model=model)\n",
    "\n",
    "question = 'tell me about the earth in 3 points'\n",
    "response = llm.invoke(question)\n",
    "print(response.content)"
   ]
  },
  {
   "cell_type": "code",
   "execution_count": 11,
   "metadata": {},
   "outputs": [
    {
     "name": "stdout",
     "output_type": "stream",
     "text": [
      "My dear fellow, I must confess that the Earth is a subject near and dear to my heart. As a scientist, I have had the privilege of studying this remarkable planet, and I am compelled to share with you three key aspects of its nature.\n",
      "\n",
      "Firstly, the Earth's atmosphere is a complex system, comprising layers of gases that regulate temperature, weather patterns, and the distribution of solar radiation. The ozone layer, in particular, is a marvel of atmospheric science, wherein oxygen molecules (O2) are converted into ozone (O3), absorbing ultraviolet radiation from the sun.\n",
      "\n",
      "Secondly, the Earth's geology is a testament to its dynamic and ever-changing nature. From the majestic mountains to the deepest ocean trenches, our planet's crust is a complex tapestry of rocks, minerals, and fossils that have been shaped by millions of years of tectonic activity, erosion, and weathering.\n",
      "\n",
      "Thirdly, the Earth's ecosystems are a symphony of living organisms, each playing its part in maintaining the delicate balance of nature. From the simplest microorganisms to the most complex terrestrial plants and animals, every species has evolved unique adaptations to survive and thrive within their respective environments, highlighting the intricate web of relationships that govern our planet's biodiversity.\n",
      "\n",
      "These three aspects – atmosphere, geology, and ecosystems – are but a glimpse into the Earth's multifaceted nature, my dear fellow. As scientists, we must continue to explore, discover, and understand this wondrous world around us.\n"
     ]
    }
   ],
   "source": [
    "model = 'scientist'\n",
    "\n",
    "llm = ChatOllama(base_url=base_url, model=model)\n",
    "\n",
    "question = 'tell me about the earth in 3 points'\n",
    "response = llm.invoke(question)\n",
    "print(response.content)"
   ]
  },
  {
   "cell_type": "markdown",
   "metadata": {},
   "source": [
    "#### Langchain Messages"
   ]
  },
  {
   "cell_type": "code",
   "execution_count": 12,
   "metadata": {},
   "outputs": [],
   "source": [
    "from langchain_core.messages import SystemMessage, HumanMessage\n",
    "\n",
    "base_url = \"http://localhost:11434\"\n",
    "model = 'llama3.2:1b'\n",
    "\n",
    "llm = ChatOllama(base_url=base_url, model=model)"
   ]
  },
  {
   "cell_type": "code",
   "execution_count": 13,
   "metadata": {},
   "outputs": [
    {
     "name": "stdout",
     "output_type": "stream",
     "text": [
      "Here's what I know about Earth:\n",
      "\n",
      "1. It's our home, a big ball.\n",
      "2. We live on it with air to breathe and water to drink.\n",
      "3. It's got mountains, oceans, and forests, too!\n"
     ]
    }
   ],
   "source": [
    "question = HumanMessage('tell me about the earth in 3 points')\n",
    "system = SystemMessage('You are elemetary teacher. You answer in short sentences.')\n",
    "\n",
    "messages = [system, question]\n",
    "response = llm.invoke(messages)\n",
    "\n",
    "print(response.content)"
   ]
  },
  {
   "cell_type": "code",
   "execution_count": 14,
   "metadata": {},
   "outputs": [
    {
     "name": "stdout",
     "output_type": "stream",
     "text": [
      "Here's what I can share about Earth:\n",
      "\n",
      "1. **Diameter and Circumference**: The Earth is approximately 12,742 kilometers (7,918 miles) in diameter and has a circumference of around 40,075 kilometers (24,901 miles).\n",
      "\n",
      "2. **Surface Features**: The Earth's surface is divided into several continents, oceans, islands, and mountain ranges. It also features vast deserts, rainforests, and polar regions.\n",
      "\n",
      "3. **Atmospheric Conditions**: The Earth's atmosphere contains approximately 78% nitrogen, 21% oxygen, and 1% other gases. This atmosphere supports life on the planet, with a strong greenhouse effect maintaining a habitable temperature range for most living organisms.\n"
     ]
    }
   ],
   "source": [
    "question = HumanMessage('tell me about the earth in 3 points')\n",
    "system = SystemMessage('You are phd teacher. You answer in short sentences.')\n",
    "\n",
    "messages = [system, question]\n",
    "response = llm.invoke(messages)\n",
    "\n",
    "print(response.content)"
   ]
  },
  {
   "cell_type": "markdown",
   "metadata": {},
   "source": [
    "### Langchain Prompt Templates\n",
    "\n",
    "|    Prompt Template Class             |    Description                                                                                                     |\n",
    "|--------------------------------------|---------------------------------------------------------------------------------------------------------------------|\n",
    "|    SystemMessagePromptTemplate       |    Template for generating system messages that provide model context or instructions.                            |\n",
    "|    HumanMessagePromptTemplate        |    Template for generating user (human) messages, representing user input or questions.                          |\n",
    "|    AIMessagePromptTemplate           |    Template for generating AI messages, representing responses from the assistant.                                |\n",
    "|    PromptTemplate                    |    Basic template class for creating prompts with static text and variable placeholders.                          |\n",
    "|    ChatPromptTemplate                |    Template for creating prompts with a sequence of message types (e.g., system, user, assistant) in a chat format. |"
   ]
  },
  {
   "cell_type": "code",
   "execution_count": 15,
   "metadata": {},
   "outputs": [],
   "source": [
    "from langchain_core.prompts import (\n",
    "                                        SystemMessagePromptTemplate,\n",
    "                                        HumanMessagePromptTemplate,\n",
    "                                        PromptTemplate,\n",
    "                                        ChatPromptTemplate\n",
    "                                        )"
   ]
  },
  {
   "cell_type": "code",
   "execution_count": 16,
   "metadata": {},
   "outputs": [],
   "source": [
    "system = SystemMessagePromptTemplate.from_template('You are {school} teacher. You answer in short sentences.')\n",
    "\n",
    "question = HumanMessagePromptTemplate.from_template('tell me about the {topics} in {points} points')\n",
    "\n"
   ]
  },
  {
   "cell_type": "code",
   "execution_count": 17,
   "metadata": {},
   "outputs": [
    {
     "data": {
      "text/plain": [
       "HumanMessagePromptTemplate(prompt=PromptTemplate(input_variables=['points', 'topics'], input_types={}, partial_variables={}, template='tell me about the {topics} in {points} points'), additional_kwargs={})"
      ]
     },
     "execution_count": 17,
     "metadata": {},
     "output_type": "execute_result"
    }
   ],
   "source": [
    "system\n",
    "question"
   ]
  },
  {
   "cell_type": "code",
   "execution_count": 18,
   "metadata": {},
   "outputs": [
    {
     "data": {
      "text/plain": [
       "HumanMessage(content='tell me about the sun in 5 points', additional_kwargs={}, response_metadata={})"
      ]
     },
     "execution_count": 18,
     "metadata": {},
     "output_type": "execute_result"
    }
   ],
   "source": [
    "question.format(topics='sun', points=5)"
   ]
  },
  {
   "cell_type": "code",
   "execution_count": 19,
   "metadata": {},
   "outputs": [
    {
     "data": {
      "text/plain": [
       "SystemMessage(content='You are elemetary teacher. You answer in short sentences.', additional_kwargs={}, response_metadata={})"
      ]
     },
     "execution_count": 19,
     "metadata": {},
     "output_type": "execute_result"
    }
   ],
   "source": [
    "system.format(school='elemetary')"
   ]
  },
  {
   "cell_type": "code",
   "execution_count": 20,
   "metadata": {},
   "outputs": [],
   "source": [
    "messages = [system, question]\n",
    "\n",
    "template = ChatPromptTemplate(messages)"
   ]
  },
  {
   "cell_type": "code",
   "execution_count": 21,
   "metadata": {},
   "outputs": [
    {
     "name": "stdout",
     "output_type": "stream",
     "text": [
      "Here are five points about the sun:\n",
      "\n",
      "1. The sun is a massive ball of hot, glowing gas.\n",
      "2. It's about 93 million miles (150 million kilometers) away from Earth.\n",
      "3. The sun makes up about 99.8% of our solar system's mass.\n",
      "4. It's so bright that it's visible during the day and night every day.\n",
      "5. Without the sun's light, life on Earth would be impossible to exist.\n"
     ]
    }
   ],
   "source": [
    "question = template.invoke({'school': 'elementary', 'topics': 'sun', 'points': 5})\n",
    "\n",
    "response = llm.invoke(question)\n",
    "print(response.content)"
   ]
  },
  {
   "cell_type": "code",
   "execution_count": null,
   "metadata": {},
   "outputs": [],
   "source": []
  },
  {
   "cell_type": "code",
   "execution_count": null,
   "metadata": {},
   "outputs": [],
   "source": []
  }
 ],
 "metadata": {
  "kernelspec": {
   "display_name": "Python 3",
   "language": "python",
   "name": "python3"
  },
  "language_info": {
   "codemirror_mode": {
    "name": "ipython",
    "version": 3
   },
   "file_extension": ".py",
   "mimetype": "text/x-python",
   "name": "python",
   "nbconvert_exporter": "python",
   "pygments_lexer": "ipython3",
   "version": "3.12.4"
  }
 },
 "nbformat": 4,
 "nbformat_minor": 2
}
